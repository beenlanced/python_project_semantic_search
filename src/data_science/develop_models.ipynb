{
 "cells": [
  {
   "cell_type": "markdown",
   "id": "97976878",
   "metadata": {},
   "source": [
    "# Compare Candidate Search Approaches\n",
    "\n",
    "`Note` because of changes to YouTube API, I had to use alternate data files to truly show the ML solution.\n",
    "\n",
    "These files are \n",
    "* video_transcripts_full.parquet\n",
    "    * A more robust file of video ids, datetimes, titles, and transcripts\n",
    "\n",
    "* video_index_full.parquet\n",
    "    * A \n",
    "\n",
    "* eval_raw.csv\n",
    "    * A file of user queries, and video ids. This file is used to evaluate the Machine Learning Solutions. \n"
   ]
  },
  {
   "cell_type": "markdown",
   "id": "92b46ddb",
   "metadata": {},
   "source": [
    "## Imports"
   ]
  },
  {
   "cell_type": "code",
   "execution_count": null,
   "id": "df486534",
   "metadata": {},
   "outputs": [],
   "source": [
    "import numpy as np\n",
    "import polars as pl\n",
    "from sentence_transformers import SentenceTransformer, util\n",
    "from  sklearn.metrics import DistanceMetric\n",
    "\n"
   ]
  },
  {
   "cell_type": "markdown",
   "id": "303dfbf4",
   "metadata": {},
   "source": [
    "# Load the data "
   ]
  },
  {
   "cell_type": "code",
   "execution_count": 2,
   "id": "7f11ba8a",
   "metadata": {},
   "outputs": [],
   "source": [
    "# Assign paths for the various files\n",
    "video_transcript_file_path = \"/Users/lancehester/Documents/semantic_search_yt/data/video_transcripts_full.parquet\"\n",
    "video_index_full_file_path = \"/Users/lancehester/Documents/semantic_search_yt/data/video_index_full.parquet\"\n",
    "eval_raw_file_path = \"/Users/lancehester/Documents/semantic_search_yt/data/eval_raw.csv\""
   ]
  },
  {
   "cell_type": "markdown",
   "id": "f12f7015",
   "metadata": {},
   "source": [
    "## Create the Dataframes for the Transcripts and Evaluation file"
   ]
  },
  {
   "cell_type": "code",
   "execution_count": 3,
   "id": "aaa9fe97",
   "metadata": {},
   "outputs": [
    {
     "data": {
      "text/html": [
       "<div><style>\n",
       ".dataframe > thead > tr,\n",
       ".dataframe > tbody > tr {\n",
       "  text-align: right;\n",
       "  white-space: pre-wrap;\n",
       "}\n",
       "</style>\n",
       "<small>shape: (5, 4)</small><table border=\"1\" class=\"dataframe\"><thead><tr><th>video_id</th><th>datetime</th><th>title</th><th>transcript</th></tr><tr><td>str</td><td>datetime[μs]</td><td>str</td><td>str</td></tr></thead><tbody><tr><td>&quot;03x2oYg9oME&quot;</td><td>2024-04-25 15:16:00</td><td>&quot;Data Science Project Managemen…</td><td>&quot;this video is part of a larger…</td></tr><tr><td>&quot;O5i_mMUM94c&quot;</td><td>2024-04-19 14:05:54</td><td>&quot;How I’d learned #datascience (…</td><td>&quot;here&#x27;s how I&#x27;d learn data scie…</td></tr><tr><td>&quot;xm9devSQEqU&quot;</td><td>2024-04-18 15:59:02</td><td>&quot;4 Skills You Need to Be a Full…</td><td>&quot;although it is common to deleg…</td></tr><tr><td>&quot;Z6CmuVEi7QY&quot;</td><td>2024-04-11 10:00:27</td><td>&quot;How I&#x27;d Learn Data Science (if…</td><td>&quot;when I was first learning data…</td></tr><tr><td>&quot;INlCLmWlojY&quot;</td><td>2024-04-04 18:45:00</td><td>&quot;I Was Wrong About AI Consultin…</td><td>&quot;last year I quit my corporate …</td></tr></tbody></table></div>"
      ],
      "text/plain": [
       "shape: (5, 4)\n",
       "┌─────────────┬─────────────────────┬──────────────────────────────────┬───────────────────────────┐\n",
       "│ video_id    ┆ datetime            ┆ title                            ┆ transcript                │\n",
       "│ ---         ┆ ---                 ┆ ---                              ┆ ---                       │\n",
       "│ str         ┆ datetime[μs]        ┆ str                              ┆ str                       │\n",
       "╞═════════════╪═════════════════════╪══════════════════════════════════╪═══════════════════════════╡\n",
       "│ 03x2oYg9oME ┆ 2024-04-25 15:16:00 ┆ Data Science Project Managemen…  ┆ this video is part of a   │\n",
       "│             ┆                     ┆                                  ┆ larger…                   │\n",
       "│ O5i_mMUM94c ┆ 2024-04-19 14:05:54 ┆ How I’d learned #datascience (…  ┆ here's how I'd learn data │\n",
       "│             ┆                     ┆                                  ┆ scie…                     │\n",
       "│ xm9devSQEqU ┆ 2024-04-18 15:59:02 ┆ 4 Skills You Need to Be a Full…  ┆ although it is common to  │\n",
       "│             ┆                     ┆                                  ┆ deleg…                    │\n",
       "│ Z6CmuVEi7QY ┆ 2024-04-11 10:00:27 ┆ How I'd Learn Data Science (if…  ┆ when I was first learning │\n",
       "│             ┆                     ┆                                  ┆ data…                     │\n",
       "│ INlCLmWlojY ┆ 2024-04-04 18:45:00 ┆ I Was Wrong About AI Consultin…  ┆ last year I quit my       │\n",
       "│             ┆                     ┆                                  ┆ corporate …               │\n",
       "└─────────────┴─────────────────────┴──────────────────────────────────┴───────────────────────────┘"
      ]
     },
     "execution_count": 3,
     "metadata": {},
     "output_type": "execute_result"
    }
   ],
   "source": [
    "# Data Frame from the transcripts\n",
    "df = pl.read_parquet(video_transcript_file_path)\n",
    "df.head()"
   ]
  },
  {
   "cell_type": "code",
   "execution_count": 7,
   "id": "b49002ac",
   "metadata": {},
   "outputs": [
    {
     "data": {
      "text/plain": [
       "(83, 4)"
      ]
     },
     "execution_count": 7,
     "metadata": {},
     "output_type": "execute_result"
    }
   ],
   "source": [
    "df.shape"
   ]
  },
  {
   "cell_type": "code",
   "execution_count": 8,
   "id": "932a2869",
   "metadata": {},
   "outputs": [
    {
     "data": {
      "text/html": [
       "<div><style>\n",
       ".dataframe > thead > tr,\n",
       ".dataframe > tbody > tr {\n",
       "  text-align: right;\n",
       "  white-space: pre-wrap;\n",
       "}\n",
       "</style>\n",
       "<small>shape: (5, 2)</small><table border=\"1\" class=\"dataframe\"><thead><tr><th>query</th><th>video_id</th></tr><tr><td>str</td><td>str</td></tr></thead><tbody><tr><td>&quot;ai consulting&quot;</td><td>&quot;INlCLmWlojY&quot;</td></tr><tr><td>&quot;fine tuning llm&quot;</td><td>&quot;eC6Hd1hFvos&quot;</td></tr><tr><td>&quot;When do you recommend fine tun…</td><td>&quot;eC6Hd1hFvos&quot;</td></tr><tr><td>&quot;llm from scratch&quot;</td><td>&quot;ZLbVdvOoTKM&quot;</td></tr><tr><td>&quot;What if you could make a small…</td><td>&quot;ZLbVdvOoTKM&quot;</td></tr></tbody></table></div>"
      ],
      "text/plain": [
       "shape: (5, 2)\n",
       "┌─────────────────────────────────┬─────────────┐\n",
       "│ query                           ┆ video_id    │\n",
       "│ ---                             ┆ ---         │\n",
       "│ str                             ┆ str         │\n",
       "╞═════════════════════════════════╪═════════════╡\n",
       "│ ai consulting                   ┆ INlCLmWlojY │\n",
       "│ fine tuning llm                 ┆ eC6Hd1hFvos │\n",
       "│ When do you recommend fine tun… ┆ eC6Hd1hFvos │\n",
       "│ llm from scratch                ┆ ZLbVdvOoTKM │\n",
       "│ What if you could make a small… ┆ ZLbVdvOoTKM │\n",
       "└─────────────────────────────────┴─────────────┘"
      ]
     },
     "execution_count": 8,
     "metadata": {},
     "output_type": "execute_result"
    }
   ],
   "source": [
    "# Data Frame from the evaluation file\n",
    "df_eval = pl.read_csv(eval_raw_file_path)\n",
    "df_eval.head()"
   ]
  },
  {
   "cell_type": "code",
   "execution_count": 9,
   "id": "bb9d5ed4",
   "metadata": {},
   "outputs": [
    {
     "data": {
      "text/plain": [
       "(64, 2)"
      ]
     },
     "execution_count": 9,
     "metadata": {},
     "output_type": "execute_result"
    }
   ],
   "source": [
    "df_eval.shape"
   ]
  },
  {
   "cell_type": "markdown",
   "id": "5cc8a693",
   "metadata": {},
   "source": [
    "# Get the Embeded Titles and Transcripts\n"
   ]
  },
  {
   "cell_type": "code",
   "execution_count": 10,
   "id": "f70ccd66",
   "metadata": {},
   "outputs": [],
   "source": [
    "# Define paramters\n",
    "\n",
    "# Get cols we will need\n",
    "column_to_embed_list = [\"title\", \"transcript\"]\n",
    "\n",
    "# List out the Deep Learning sentence transformer models we will use - These are Hugging Face models\n",
    "transformer_model_list = [\"all-MiniLM-L6-v2\", \"multi-qa-distilbert-cos-v1\", \"multi-qa-mpnet-base-dot-v1\"]"
   ]
  },
  {
   "cell_type": "markdown",
   "id": "93038972",
   "metadata": {},
   "source": [
    "### Generate Embeddings for the combinations of column and model"
   ]
  },
  {
   "cell_type": "code",
   "execution_count": null,
   "id": "290c7a48",
   "metadata": {},
   "outputs": [
    {
     "data": {
      "application/vnd.jupyter.widget-view+json": {
       "model_id": "e23ec1dcb65048ed949b392c4321802c",
       "version_major": 2,
       "version_minor": 0
      },
      "text/plain": [
       "modules.json:   0%|          | 0.00/349 [00:00<?, ?B/s]"
      ]
     },
     "metadata": {},
     "output_type": "display_data"
    },
    {
     "data": {
      "application/vnd.jupyter.widget-view+json": {
       "model_id": "1d8d44c81a354a61a1bb3f8b7a630d45",
       "version_major": 2,
       "version_minor": 0
      },
      "text/plain": [
       "config_sentence_transformers.json:   0%|          | 0.00/116 [00:00<?, ?B/s]"
      ]
     },
     "metadata": {},
     "output_type": "display_data"
    },
    {
     "data": {
      "application/vnd.jupyter.widget-view+json": {
       "model_id": "952f52b7ddb64fe5b307ca3d79e0dc79",
       "version_major": 2,
       "version_minor": 0
      },
      "text/plain": [
       "README.md:   0%|          | 0.00/10.5k [00:00<?, ?B/s]"
      ]
     },
     "metadata": {},
     "output_type": "display_data"
    },
    {
     "data": {
      "application/vnd.jupyter.widget-view+json": {
       "model_id": "da28d5e6e2f249b183a2f5cbed3f16e6",
       "version_major": 2,
       "version_minor": 0
      },
      "text/plain": [
       "sentence_bert_config.json:   0%|          | 0.00/53.0 [00:00<?, ?B/s]"
      ]
     },
     "metadata": {},
     "output_type": "display_data"
    },
    {
     "data": {
      "application/vnd.jupyter.widget-view+json": {
       "model_id": "7b0c683c5ae34bb59786294beb2e3e58",
       "version_major": 2,
       "version_minor": 0
      },
      "text/plain": [
       "config.json:   0%|          | 0.00/612 [00:00<?, ?B/s]"
      ]
     },
     "metadata": {},
     "output_type": "display_data"
    },
    {
     "data": {
      "application/vnd.jupyter.widget-view+json": {
       "model_id": "927ced0dbb6745fda5250c11b99089ee",
       "version_major": 2,
       "version_minor": 0
      },
      "text/plain": [
       "model.safetensors:   0%|          | 0.00/90.9M [00:00<?, ?B/s]"
      ]
     },
     "metadata": {},
     "output_type": "display_data"
    },
    {
     "data": {
      "application/vnd.jupyter.widget-view+json": {
       "model_id": "3ff7ba68c0004f24ab09693d2772430a",
       "version_major": 2,
       "version_minor": 0
      },
      "text/plain": [
       "tokenizer_config.json:   0%|          | 0.00/350 [00:00<?, ?B/s]"
      ]
     },
     "metadata": {},
     "output_type": "display_data"
    },
    {
     "data": {
      "application/vnd.jupyter.widget-view+json": {
       "model_id": "271b1ffd98c74aa48511fd4b50a45dc8",
       "version_major": 2,
       "version_minor": 0
      },
      "text/plain": [
       "vocab.txt:   0%|          | 0.00/232k [00:00<?, ?B/s]"
      ]
     },
     "metadata": {},
     "output_type": "display_data"
    },
    {
     "data": {
      "application/vnd.jupyter.widget-view+json": {
       "model_id": "ba55247e56354940b4d7b8fddb5bdbf7",
       "version_major": 2,
       "version_minor": 0
      },
      "text/plain": [
       "tokenizer.json:   0%|          | 0.00/466k [00:00<?, ?B/s]"
      ]
     },
     "metadata": {},
     "output_type": "display_data"
    },
    {
     "data": {
      "application/vnd.jupyter.widget-view+json": {
       "model_id": "5613372382004bf7874d88829d4b47cc",
       "version_major": 2,
       "version_minor": 0
      },
      "text/plain": [
       "special_tokens_map.json:   0%|          | 0.00/112 [00:00<?, ?B/s]"
      ]
     },
     "metadata": {},
     "output_type": "display_data"
    },
    {
     "data": {
      "application/vnd.jupyter.widget-view+json": {
       "model_id": "60f5cba802ac4120baa7d091504f3e34",
       "version_major": 2,
       "version_minor": 0
      },
      "text/plain": [
       "config.json:   0%|          | 0.00/190 [00:00<?, ?B/s]"
      ]
     },
     "metadata": {},
     "output_type": "display_data"
    },
    {
     "name": "stdout",
     "output_type": "stream",
     "text": [
      "all-MiniLM-L6-v2_title\n",
      "\n",
      "all-MiniLM-L6-v2_transcript\n",
      "\n"
     ]
    },
    {
     "data": {
      "application/vnd.jupyter.widget-view+json": {
       "model_id": "f033882620404abebcb3ac78f64141fa",
       "version_major": 2,
       "version_minor": 0
      },
      "text/plain": [
       "modules.json:   0%|          | 0.00/349 [00:00<?, ?B/s]"
      ]
     },
     "metadata": {},
     "output_type": "display_data"
    },
    {
     "data": {
      "application/vnd.jupyter.widget-view+json": {
       "model_id": "5dea298c8fcb4ed0af3b131839a80bfe",
       "version_major": 2,
       "version_minor": 0
      },
      "text/plain": [
       "config_sentence_transformers.json:   0%|          | 0.00/116 [00:00<?, ?B/s]"
      ]
     },
     "metadata": {},
     "output_type": "display_data"
    },
    {
     "data": {
      "application/vnd.jupyter.widget-view+json": {
       "model_id": "012b6ea1d58f44dc9b3ff013cf129996",
       "version_major": 2,
       "version_minor": 0
      },
      "text/plain": [
       "README.md:   0%|          | 0.00/9.52k [00:00<?, ?B/s]"
      ]
     },
     "metadata": {},
     "output_type": "display_data"
    },
    {
     "data": {
      "application/vnd.jupyter.widget-view+json": {
       "model_id": "e3f729e468c04d06b58cb0fb3b18d2fa",
       "version_major": 2,
       "version_minor": 0
      },
      "text/plain": [
       "sentence_bert_config.json:   0%|          | 0.00/53.0 [00:00<?, ?B/s]"
      ]
     },
     "metadata": {},
     "output_type": "display_data"
    },
    {
     "data": {
      "application/vnd.jupyter.widget-view+json": {
       "model_id": "5a48dbb9598045f2a663cde226786edf",
       "version_major": 2,
       "version_minor": 0
      },
      "text/plain": [
       "config.json:   0%|          | 0.00/523 [00:00<?, ?B/s]"
      ]
     },
     "metadata": {},
     "output_type": "display_data"
    },
    {
     "data": {
      "application/vnd.jupyter.widget-view+json": {
       "model_id": "55d3fe5b07754d93b9c9382fd51a4197",
       "version_major": 2,
       "version_minor": 0
      },
      "text/plain": [
       "model.safetensors:   0%|          | 0.00/265M [00:00<?, ?B/s]"
      ]
     },
     "metadata": {},
     "output_type": "display_data"
    },
    {
     "data": {
      "application/vnd.jupyter.widget-view+json": {
       "model_id": "27dd0dee0e6e4ab78cf65042447e899c",
       "version_major": 2,
       "version_minor": 0
      },
      "text/plain": [
       "tokenizer_config.json:   0%|          | 0.00/333 [00:00<?, ?B/s]"
      ]
     },
     "metadata": {},
     "output_type": "display_data"
    },
    {
     "data": {
      "application/vnd.jupyter.widget-view+json": {
       "model_id": "6daa9fe7e1634b18be8f86322dd39062",
       "version_major": 2,
       "version_minor": 0
      },
      "text/plain": [
       "vocab.txt:   0%|          | 0.00/232k [00:00<?, ?B/s]"
      ]
     },
     "metadata": {},
     "output_type": "display_data"
    },
    {
     "data": {
      "application/vnd.jupyter.widget-view+json": {
       "model_id": "8a967864596a42bbada45e660f54f7d0",
       "version_major": 2,
       "version_minor": 0
      },
      "text/plain": [
       "tokenizer.json:   0%|          | 0.00/466k [00:00<?, ?B/s]"
      ]
     },
     "metadata": {},
     "output_type": "display_data"
    },
    {
     "data": {
      "application/vnd.jupyter.widget-view+json": {
       "model_id": "d05dafcba3e24023955db352d53ccfa2",
       "version_major": 2,
       "version_minor": 0
      },
      "text/plain": [
       "special_tokens_map.json:   0%|          | 0.00/112 [00:00<?, ?B/s]"
      ]
     },
     "metadata": {},
     "output_type": "display_data"
    },
    {
     "data": {
      "application/vnd.jupyter.widget-view+json": {
       "model_id": "d2455939fc3246778e1420365a313869",
       "version_major": 2,
       "version_minor": 0
      },
      "text/plain": [
       "config.json:   0%|          | 0.00/190 [00:00<?, ?B/s]"
      ]
     },
     "metadata": {},
     "output_type": "display_data"
    },
    {
     "name": "stdout",
     "output_type": "stream",
     "text": [
      "multi-qa-distilbert-cos-v1_title\n",
      "\n",
      "multi-qa-distilbert-cos-v1_transcript\n",
      "\n"
     ]
    },
    {
     "data": {
      "application/vnd.jupyter.widget-view+json": {
       "model_id": "bec576d8f01446bd8c50a0fe3eca74e4",
       "version_major": 2,
       "version_minor": 0
      },
      "text/plain": [
       "modules.json:   0%|          | 0.00/229 [00:00<?, ?B/s]"
      ]
     },
     "metadata": {},
     "output_type": "display_data"
    },
    {
     "data": {
      "application/vnd.jupyter.widget-view+json": {
       "model_id": "3ba1405badc64f0da0ec71797ef97ac6",
       "version_major": 2,
       "version_minor": 0
      },
      "text/plain": [
       "config_sentence_transformers.json:   0%|          | 0.00/212 [00:00<?, ?B/s]"
      ]
     },
     "metadata": {},
     "output_type": "display_data"
    },
    {
     "data": {
      "application/vnd.jupyter.widget-view+json": {
       "model_id": "bd3a573011fd48798e778e4f7479ff22",
       "version_major": 2,
       "version_minor": 0
      },
      "text/plain": [
       "README.md:   0%|          | 0.00/8.71k [00:00<?, ?B/s]"
      ]
     },
     "metadata": {},
     "output_type": "display_data"
    },
    {
     "data": {
      "application/vnd.jupyter.widget-view+json": {
       "model_id": "608a868f0bc448d7a0244e10ee0afb12",
       "version_major": 2,
       "version_minor": 0
      },
      "text/plain": [
       "sentence_bert_config.json:   0%|          | 0.00/53.0 [00:00<?, ?B/s]"
      ]
     },
     "metadata": {},
     "output_type": "display_data"
    },
    {
     "data": {
      "application/vnd.jupyter.widget-view+json": {
       "model_id": "a5fb83e0bfe74ba4bd0c4fc3cd2c5233",
       "version_major": 2,
       "version_minor": 0
      },
      "text/plain": [
       "config.json:   0%|          | 0.00/571 [00:00<?, ?B/s]"
      ]
     },
     "metadata": {},
     "output_type": "display_data"
    },
    {
     "data": {
      "application/vnd.jupyter.widget-view+json": {
       "model_id": "5d33799bbf1b4a9fbefb4b05acdb6810",
       "version_major": 2,
       "version_minor": 0
      },
      "text/plain": [
       "model.safetensors:   0%|          | 0.00/438M [00:00<?, ?B/s]"
      ]
     },
     "metadata": {},
     "output_type": "display_data"
    },
    {
     "data": {
      "application/vnd.jupyter.widget-view+json": {
       "model_id": "5325687e6885481dbd082f74c830aedd",
       "version_major": 2,
       "version_minor": 0
      },
      "text/plain": [
       "tokenizer_config.json:   0%|          | 0.00/363 [00:00<?, ?B/s]"
      ]
     },
     "metadata": {},
     "output_type": "display_data"
    },
    {
     "data": {
      "application/vnd.jupyter.widget-view+json": {
       "model_id": "891abee5ebe8432db2b98a74370ddf72",
       "version_major": 2,
       "version_minor": 0
      },
      "text/plain": [
       "vocab.txt:   0%|          | 0.00/232k [00:00<?, ?B/s]"
      ]
     },
     "metadata": {},
     "output_type": "display_data"
    },
    {
     "data": {
      "application/vnd.jupyter.widget-view+json": {
       "model_id": "0e9ccbecedc340428c73bc21cf06adeb",
       "version_major": 2,
       "version_minor": 0
      },
      "text/plain": [
       "tokenizer.json:   0%|          | 0.00/466k [00:00<?, ?B/s]"
      ]
     },
     "metadata": {},
     "output_type": "display_data"
    },
    {
     "data": {
      "application/vnd.jupyter.widget-view+json": {
       "model_id": "6b9e60746d7e487e8d34b97458a2c983",
       "version_major": 2,
       "version_minor": 0
      },
      "text/plain": [
       "special_tokens_map.json:   0%|          | 0.00/239 [00:00<?, ?B/s]"
      ]
     },
     "metadata": {},
     "output_type": "display_data"
    },
    {
     "data": {
      "application/vnd.jupyter.widget-view+json": {
       "model_id": "692d9af252c049d5a9a0087e17b6ce67",
       "version_major": 2,
       "version_minor": 0
      },
      "text/plain": [
       "config.json:   0%|          | 0.00/190 [00:00<?, ?B/s]"
      ]
     },
     "metadata": {},
     "output_type": "display_data"
    },
    {
     "name": "stdout",
     "output_type": "stream",
     "text": [
      "multi-qa-mpnet-base-dot-v1_title\n",
      "\n",
      "multi-qa-mpnet-base-dot-v1_transcript\n",
      "\n"
     ]
    }
   ],
   "source": [
    "#Initialize dictionary to hold all of the data\n",
    "text_embedding_dict = {}\n",
    "\n",
    "for transformer_model in transformer_model_list:\n",
    "    # Initialze the embedding model\n",
    "    model = SentenceTransformer(transformer_model)\n",
    "\n",
    "    # Go through each column to ge get list\n",
    "    for col_name in column_to_embed_list:\n",
    "\n",
    "        # Define text embedding identifier\n",
    "        key_name = f\"{transformer_model}_{col_name}\"\n",
    "        print(key_name)\n",
    "\n",
    "        # Generate text embedding for the text in each column\n",
    "        embedding_array = model.encode(df[col_name].to_list())\n",
    "        print(\"\")\n",
    "\n",
    "        # Add embeddings to dictionary using key_names as keys\n",
    "        text_embedding_dict[key_name] = embedding_array"
   ]
  },
  {
   "cell_type": "markdown",
   "id": "792890a0",
   "metadata": {},
   "source": [
    "# Now, Let's Embed the Evaluation Queries"
   ]
  },
  {
   "cell_type": "code",
   "execution_count": 12,
   "id": "0908d302",
   "metadata": {},
   "outputs": [
    {
     "name": "stdout",
     "output_type": "stream",
     "text": [
      "all-MiniLM-L6-v2\n",
      "CPU times: user 77.8 ms, sys: 21.4 ms, total: 99.2 ms\n",
      "Wall time: 331 ms\n",
      "\n",
      "multi-qa-distilbert-cos-v1\n",
      "CPU times: user 63.8 ms, sys: 42.2 ms, total: 106 ms\n",
      "Wall time: 208 ms\n",
      "\n",
      "multi-qa-mpnet-base-dot-v1\n",
      "CPU times: user 83.1 ms, sys: 25.6 ms, total: 109 ms\n",
      "Wall time: 1.04 s\n",
      "\n"
     ]
    }
   ],
   "source": [
    "#Initialize dictionary to hold all of the data\n",
    "query_embedding_dict = {}\n",
    "\n",
    "for transformer_model in transformer_model_list:\n",
    "    # Initialze the embedding model\n",
    "    model = SentenceTransformer(transformer_model)\n",
    "    print(transformer_model)\n",
    "\n",
    "    #embed query text\n",
    "    %time embedding_array = model.encode(df_eval[\"query\"].to_list())\n",
    "    print(\"\")\n",
    "\n",
    "    # Add embeddings to dictionary using key_names as keys\n",
    "    query_embedding_dict[transformer_model] = embedding_array"
   ]
  },
  {
   "cell_type": "markdown",
   "id": "5a36764d",
   "metadata": {},
   "source": [
    "# Evaluate The Search Methods"
   ]
  },
  {
   "cell_type": "code",
   "execution_count": null,
   "id": "3e297a40",
   "metadata": {},
   "outputs": [],
   "source": [
    "def return_video_id_index(\n",
    "        df: pl.dataframe.frame.DataFrame,\n",
    "        df_eval: pl.dataframe.frame.DataFrame,\n",
    "        query_nth: int\n",
    ") -> int:\n",
    "    \"\"\"\n",
    "    Method to return the index of a dataframe corresponding to the nth row in the evaluation dataframe\n",
    "\n",
    "    Args:\n",
    "        df (pl.dataframe.frame.DataFrame): Polars dataframe of video ids, datetimes, titles, and transcripts\n",
    "        df_eval (pl.dataframe.frame.DataFrame): Polars dataframe of user queries, and video ids used for evaluations\n",
    "        query_nth (int): the nth row in the evaluation dataframe\n",
    "\n",
    "    Returns:\n",
    "        int: the nth row index of the evaluation dataframe.\n",
    "    \"\"\"\n",
    "    return [i for i in range(len(df)) if df['video_id'][i]==df_eval['video_id'][query_nth]][0]"
   ]
  },
  {
   "cell_type": "code",
   "execution_count": 35,
   "id": "d92fdfcb",
   "metadata": {},
   "outputs": [],
   "source": [
    "def evaluate_true_rankings(\n",
    "        dist_array_isorted: np.ndarray,\n",
    "        df: pl.dataframe.frame.DataFrame,\n",
    "        df_eval: pl.dataframe.frame.DataFrame\n",
    ") -> np.ndarray:\n",
    "    \"\"\"\n",
    "    Method to return \"true\" video ID rankings for each evaluation query\n",
    "\n",
    "    Args:\n",
    "        dist_array_isorted (np.ndarray): Numpy array of distance metric values\n",
    "        df (pl.dataframe.frame.DataFrame): Polars dataframe of video ids, datetimes, titles, and transcripts\n",
    "        df_eval (pl.dataframe.frame.DataFrame): Polars dataframe of user queries, and video ids used for evaluations\n",
    "\n",
    "    Returns:\n",
    "        np.ndarray: Numpy array of \"true\" video ID rankings for each evaluation query\n",
    "    \"\"\"\n",
    "    # Initialize array to store rankings of \"correct\" search reult\n",
    "    true_rank_array = np.empty((1, dist_array_isorted.shape[1]))\n",
    "\n",
    "    # Evaluate Rankings of Correct result for each query\n",
    "    for query_nth in range(dist_array_isorted.shape[1]):\n",
    "        # Return \"true\" video ID's found in df dataframe\n",
    "        video_id_index = return_video_id_index(df, df_eval, query_nth)\n",
    "\n",
    "        # Evaluate the ranking of the \"true\" video ID\n",
    "        true_rank = np.argwhere(dist_array_isorted[:,query_nth]==video_id_index)[0][0]\n",
    "\n",
    "        # Store the \"true\" video ID's ranking in array\n",
    "        true_rank_array[0,query_nth] = true_rank\n",
    "\n",
    "    return true_rank_array"
   ]
  },
  {
   "cell_type": "code",
   "execution_count": 36,
   "id": "1967bc5a",
   "metadata": {},
   "outputs": [],
   "source": [
    "# Initialize distance metrics to experiment\n",
    "dist_name_list = [\"euclidean\", \"manhattan\", \"chebyshev\"]\n",
    "sim_name_list = [\"cos_sim\", \"dot_score\"]"
   ]
  },
  {
   "cell_type": "code",
   "execution_count": 37,
   "id": "3c2372d6",
   "metadata": {},
   "outputs": [],
   "source": [
    "# Evaluate all possible combinations of model, columns to embed, and distance metrics\n",
    "# 3 x 3 x 5 = 45 possible combinations\n",
    "\n",
    "# Intitialize list to store results\n",
    "eval_results = []\n",
    "\n",
    "# Loop through all models (3 Options)\n",
    "for transformer_model in transformer_model_list:\n",
    "    # Generate query embedding\n",
    "    query_embedding = query_embedding_dict[transformer_model]\n",
    "\n",
    "    #Loop through the text columns of the dataframe (3 options)\n",
    "    for col_name in column_to_embed_list:\n",
    "        # Generate column embedding\n",
    "        embedding_array = text_embedding_dict[f\"{transformer_model}_{col_name}\"]\n",
    "\n",
    "        # Loop through the distance measures (5 options)\n",
    "        for dist_measure in dist_name_list:\n",
    "\n",
    "            # Compute distance between video text and query\n",
    "            dist = DistanceMetric.get_metric(dist_measure)\n",
    "            dist_array= dist.pairwise(embedding_array, query_embedding)\n",
    "\n",
    "            # Sort Indices of the Distance Array - argsort returns indices\n",
    "            dist_array_isorted = np.argsort(dist_array, axis=0)\n",
    "\n",
    "            # Define label for search method\n",
    "            method_name = \"_\".join([transformer_model, col_name, dist_measure])\n",
    "\n",
    "            # Evaluate the ranking of the ground truth\n",
    "            true_rank_array = evaluate_true_rankings(dist_array_isorted, df, df_eval)\n",
    "\n",
    "            # Store results by appending to eval_results\n",
    "            eval_list = [method_name] + true_rank_array.tolist()[0]\n",
    "            eval_results.append(eval_list)\n",
    "\n",
    "        # Loop through sbert similarty scores (2 Options)       \n",
    "        for sim_name in sim_name_list:\n",
    "            # Apply Similarty Score from sbert\n",
    "            # minus because similarity scores is the opposite of a distance score\n",
    "            cmd = f\"dist_array = -util.{sim_name}(embedding_array, query_embedding)\"\n",
    "            exec(cmd)\n",
    "\n",
    "            # Sort Indices of distance array (Notice minus sign in front of cosine similarity)\n",
    "            dist_array_isorted = np.argsort(dist_array, axis=0)\n",
    "\n",
    "            # Define label for search Method\n",
    "            method_name = \"_\".join([transformer_model, col_name, sim_name.replace(\"_\",\"-\")])\n",
    "\n",
    "            # Evaluate the ranking of the ground truth\n",
    "            true_rank_array = evaluate_true_rankings(dist_array_isorted, df, df_eval)\n",
    "\n",
    "            # store results \n",
    "            eval_list = [method_name] + true_rank_array.tolist()[0]\n",
    "            eval_results.append(eval_list)"
   ]
  },
  {
   "cell_type": "code",
   "execution_count": 38,
   "id": "0ed28bbe",
   "metadata": {},
   "outputs": [
    {
     "data": {
      "text/plain": [
       "'dist_array = -util.dot_score(embedding_array, query_embedding)'"
      ]
     },
     "execution_count": 38,
     "metadata": {},
     "output_type": "execute_result"
    }
   ],
   "source": [
    "cmd"
   ]
  },
  {
   "cell_type": "code",
   "execution_count": null,
   "id": "6ba4906a",
   "metadata": {},
   "outputs": [
    {
     "data": {
      "text/plain": [
       "[['all-MiniLM-L6-v2_title_euclidean',\n",
       "  0.0,\n",
       "  0.0,\n",
       "  16.0,\n",
       "  0.0,\n",
       "  7.0,\n",
       "  0.0,\n",
       "  0.0,\n",
       "  0.0,\n",
       "  0.0,\n",
       "  0.0,\n",
       "  0.0,\n",
       "  0.0,\n",
       "  0.0,\n",
       "  0.0,\n",
       "  0.0,\n",
       "  0.0,\n",
       "  0.0,\n",
       "  3.0,\n",
       "  0.0,\n",
       "  1.0,\n",
       "  0.0,\n",
       "  2.0,\n",
       "  0.0,\n",
       "  0.0,\n",
       "  0.0,\n",
       "  1.0,\n",
       "  3.0,\n",
       "  1.0,\n",
       "  0.0,\n",
       "  0.0,\n",
       "  0.0,\n",
       "  0.0,\n",
       "  0.0,\n",
       "  2.0,\n",
       "  0.0,\n",
       "  8.0,\n",
       "  1.0,\n",
       "  0.0,\n",
       "  0.0,\n",
       "  1.0,\n",
       "  0.0,\n",
       "  6.0,\n",
       "  1.0,\n",
       "  0.0,\n",
       "  1.0,\n",
       "  0.0,\n",
       "  0.0,\n",
       "  0.0,\n",
       "  0.0,\n",
       "  0.0,\n",
       "  0.0,\n",
       "  0.0,\n",
       "  9.0,\n",
       "  5.0,\n",
       "  0.0,\n",
       "  0.0,\n",
       "  0.0,\n",
       "  0.0,\n",
       "  0.0,\n",
       "  0.0,\n",
       "  1.0,\n",
       "  0.0,\n",
       "  1.0,\n",
       "  0.0],\n",
       " ['all-MiniLM-L6-v2_title_manhattan',\n",
       "  0.0,\n",
       "  0.0,\n",
       "  9.0,\n",
       "  0.0,\n",
       "  7.0,\n",
       "  0.0,\n",
       "  0.0,\n",
       "  0.0,\n",
       "  0.0,\n",
       "  0.0,\n",
       "  0.0,\n",
       "  0.0,\n",
       "  0.0,\n",
       "  0.0,\n",
       "  0.0,\n",
       "  0.0,\n",
       "  0.0,\n",
       "  2.0,\n",
       "  0.0,\n",
       "  0.0,\n",
       "  0.0,\n",
       "  1.0,\n",
       "  0.0,\n",
       "  0.0,\n",
       "  0.0,\n",
       "  1.0,\n",
       "  3.0,\n",
       "  1.0,\n",
       "  0.0,\n",
       "  0.0,\n",
       "  0.0,\n",
       "  0.0,\n",
       "  0.0,\n",
       "  2.0,\n",
       "  0.0,\n",
       "  7.0,\n",
       "  1.0,\n",
       "  0.0,\n",
       "  0.0,\n",
       "  1.0,\n",
       "  0.0,\n",
       "  3.0,\n",
       "  1.0,\n",
       "  0.0,\n",
       "  1.0,\n",
       "  1.0,\n",
       "  0.0,\n",
       "  0.0,\n",
       "  0.0,\n",
       "  0.0,\n",
       "  0.0,\n",
       "  1.0,\n",
       "  10.0,\n",
       "  5.0,\n",
       "  0.0,\n",
       "  0.0,\n",
       "  0.0,\n",
       "  0.0,\n",
       "  0.0,\n",
       "  0.0,\n",
       "  1.0,\n",
       "  0.0,\n",
       "  1.0,\n",
       "  0.0],\n",
       " ['all-MiniLM-L6-v2_title_chebyshev',\n",
       "  0.0,\n",
       "  2.0,\n",
       "  46.0,\n",
       "  0.0,\n",
       "  60.0,\n",
       "  0.0,\n",
       "  0.0,\n",
       "  0.0,\n",
       "  0.0,\n",
       "  0.0,\n",
       "  1.0,\n",
       "  3.0,\n",
       "  0.0,\n",
       "  30.0,\n",
       "  0.0,\n",
       "  0.0,\n",
       "  4.0,\n",
       "  57.0,\n",
       "  0.0,\n",
       "  3.0,\n",
       "  0.0,\n",
       "  24.0,\n",
       "  0.0,\n",
       "  0.0,\n",
       "  0.0,\n",
       "  8.0,\n",
       "  6.0,\n",
       "  2.0,\n",
       "  0.0,\n",
       "  0.0,\n",
       "  0.0,\n",
       "  0.0,\n",
       "  0.0,\n",
       "  0.0,\n",
       "  0.0,\n",
       "  43.0,\n",
       "  1.0,\n",
       "  0.0,\n",
       "  0.0,\n",
       "  1.0,\n",
       "  0.0,\n",
       "  6.0,\n",
       "  8.0,\n",
       "  0.0,\n",
       "  1.0,\n",
       "  1.0,\n",
       "  0.0,\n",
       "  3.0,\n",
       "  0.0,\n",
       "  0.0,\n",
       "  0.0,\n",
       "  0.0,\n",
       "  5.0,\n",
       "  5.0,\n",
       "  1.0,\n",
       "  70.0,\n",
       "  11.0,\n",
       "  0.0,\n",
       "  0.0,\n",
       "  0.0,\n",
       "  1.0,\n",
       "  1.0,\n",
       "  1.0,\n",
       "  0.0],\n",
       " ['all-MiniLM-L6-v2_title_cos-sim',\n",
       "  0.0,\n",
       "  0.0,\n",
       "  16.0,\n",
       "  0.0,\n",
       "  7.0,\n",
       "  0.0,\n",
       "  0.0,\n",
       "  0.0,\n",
       "  0.0,\n",
       "  0.0,\n",
       "  0.0,\n",
       "  0.0,\n",
       "  0.0,\n",
       "  0.0,\n",
       "  0.0,\n",
       "  0.0,\n",
       "  0.0,\n",
       "  3.0,\n",
       "  0.0,\n",
       "  1.0,\n",
       "  0.0,\n",
       "  2.0,\n",
       "  0.0,\n",
       "  0.0,\n",
       "  0.0,\n",
       "  1.0,\n",
       "  3.0,\n",
       "  1.0,\n",
       "  0.0,\n",
       "  0.0,\n",
       "  0.0,\n",
       "  0.0,\n",
       "  0.0,\n",
       "  2.0,\n",
       "  0.0,\n",
       "  8.0,\n",
       "  1.0,\n",
       "  0.0,\n",
       "  0.0,\n",
       "  1.0,\n",
       "  0.0,\n",
       "  6.0,\n",
       "  1.0,\n",
       "  0.0,\n",
       "  1.0,\n",
       "  0.0,\n",
       "  0.0,\n",
       "  0.0,\n",
       "  0.0,\n",
       "  0.0,\n",
       "  0.0,\n",
       "  0.0,\n",
       "  9.0,\n",
       "  5.0,\n",
       "  0.0,\n",
       "  0.0,\n",
       "  0.0,\n",
       "  0.0,\n",
       "  0.0,\n",
       "  0.0,\n",
       "  1.0,\n",
       "  0.0,\n",
       "  1.0,\n",
       "  0.0],\n",
       " ['all-MiniLM-L6-v2_title_dot-score',\n",
       "  0.0,\n",
       "  0.0,\n",
       "  16.0,\n",
       "  0.0,\n",
       "  7.0,\n",
       "  0.0,\n",
       "  0.0,\n",
       "  0.0,\n",
       "  0.0,\n",
       "  0.0,\n",
       "  0.0,\n",
       "  0.0,\n",
       "  0.0,\n",
       "  0.0,\n",
       "  0.0,\n",
       "  0.0,\n",
       "  0.0,\n",
       "  3.0,\n",
       "  0.0,\n",
       "  1.0,\n",
       "  0.0,\n",
       "  2.0,\n",
       "  0.0,\n",
       "  0.0,\n",
       "  0.0,\n",
       "  1.0,\n",
       "  3.0,\n",
       "  1.0,\n",
       "  0.0,\n",
       "  0.0,\n",
       "  0.0,\n",
       "  0.0,\n",
       "  0.0,\n",
       "  2.0,\n",
       "  0.0,\n",
       "  8.0,\n",
       "  1.0,\n",
       "  0.0,\n",
       "  0.0,\n",
       "  1.0,\n",
       "  0.0,\n",
       "  6.0,\n",
       "  1.0,\n",
       "  0.0,\n",
       "  1.0,\n",
       "  0.0,\n",
       "  0.0,\n",
       "  0.0,\n",
       "  0.0,\n",
       "  0.0,\n",
       "  0.0,\n",
       "  0.0,\n",
       "  9.0,\n",
       "  5.0,\n",
       "  0.0,\n",
       "  0.0,\n",
       "  0.0,\n",
       "  0.0,\n",
       "  0.0,\n",
       "  0.0,\n",
       "  1.0,\n",
       "  0.0,\n",
       "  1.0,\n",
       "  0.0]]"
      ]
     },
     "execution_count": 39,
     "metadata": {},
     "output_type": "execute_result"
    }
   ],
   "source": [
    "eval_results[0:5]"
   ]
  },
  {
   "cell_type": "markdown",
   "id": "23e09d6e",
   "metadata": {},
   "source": [
    "### Compute rankings for title + transcripts embedding"
   ]
  },
  {
   "cell_type": "code",
   "execution_count": 43,
   "id": "17388e02",
   "metadata": {},
   "outputs": [],
   "source": [
    "for transformer_model in transformer_model_list:\n",
    "\n",
    "    # generate embeddings\n",
    "    embedding_array1 = text_embedding_dict[f\"{transformer_model}_title\"]\n",
    "    embedding_array2 = text_embedding_dict[f\"{transformer_model}_transcript\"]\n",
    "    query_embedding = query_embedding_dict[transformer_model]\n",
    "\n",
    "    for dist_measure in dist_name_list:\n",
    "        # Compute Distance Between Video Text and Query\n",
    "        dist = DistanceMetric.get_metric(dist_measure)\n",
    "        dist_arr = dist.pairwise(embedding_array1, query_embedding) + dist.pairwise(embedding_array2, query_embedding)\n",
    "\n",
    "        # Sort Indices of distance array\n",
    "        dist_array_isorted = np.argsort(dist_arr, axis=0)\n",
    "\n",
    "        # Define Label for Search Method\n",
    "        method_name = \"_\".join([transformer_model,\"title_transcript\", dist_measure])\n",
    "\n",
    "        # Evaluate the ranking of the ground truth\n",
    "        true_rank_array = evaluate_true_rankings(dist_array_isorted, df, df_eval)\n",
    "\n",
    "        # Store results in eval_results from above \n",
    "        eval_list = [method_name] + true_rank_array.tolist()[0]\n",
    "        eval_results.append(eval_list)\n",
    "\n",
    "    #Loop through sbert similarity scores\n",
    "    for sim_name in sim_name_list:\n",
    "        #apply similarity score from sbert\n",
    "        cmd = \"dist_arr = -util.\" + sim_name + \"(embedding_array1, query_embedding) - util.\"+ sim_name + \"(embedding_array2, query_embedding)\"\n",
    "        exec(cmd)\n",
    "\n",
    "        # sort indexes of distance array (notice minus sign in front of cosine similarity)\n",
    "        dist_array_isorted = np.argsort(dist_array, axis=0)\n",
    "\n",
    "        # define label for search method\n",
    "        method_name = \"_\".join([transformer_model, \"title_transcript\", sim_name.replace(\"_\",\"-\")])\n",
    "\n",
    "        # Evaluate the rankings of the ground truth\n",
    "        true_rank_array = evaluate_true_rankings(dist_array_isorted, df, df_eval)\n",
    "\n",
    "        # Store events\n",
    "        eval_list = [method_name] + true_rank_array.tolist()[0]\n",
    "        eval_results.append(eval_list)\n",
    "\n"
   ]
  },
  {
   "cell_type": "code",
   "execution_count": 44,
   "id": "d8cd892c",
   "metadata": {},
   "outputs": [
    {
     "data": {
      "text/plain": [
       "45"
      ]
     },
     "execution_count": 44,
     "metadata": {},
     "output_type": "execute_result"
    }
   ],
   "source": [
    "len(eval_results)"
   ]
  },
  {
   "cell_type": "code",
   "execution_count": 46,
   "id": "3e6090bb",
   "metadata": {},
   "outputs": [
    {
     "data": {
      "text/html": [
       "<div><style>\n",
       ".dataframe > thead > tr,\n",
       ".dataframe > tbody > tr {\n",
       "  text-align: right;\n",
       "  white-space: pre-wrap;\n",
       "}\n",
       "</style>\n",
       "<small>shape: (5, 65)</small><table border=\"1\" class=\"dataframe\"><thead><tr><th>method_name</th><th>rank_query_0</th><th>rank_query_1</th><th>rank_query_2</th><th>rank_query_3</th><th>rank_query_4</th><th>rank_query_5</th><th>rank_query_6</th><th>rank_query_7</th><th>rank_query_8</th><th>rank_query_9</th><th>rank_query_10</th><th>rank_query_11</th><th>rank_query_12</th><th>rank_query_13</th><th>rank_query_14</th><th>rank_query_15</th><th>rank_query_16</th><th>rank_query_17</th><th>rank_query_18</th><th>rank_query_19</th><th>rank_query_20</th><th>rank_query_21</th><th>rank_query_22</th><th>rank_query_23</th><th>rank_query_24</th><th>rank_query_25</th><th>rank_query_26</th><th>rank_query_27</th><th>rank_query_28</th><th>rank_query_29</th><th>rank_query_30</th><th>rank_query_31</th><th>rank_query_32</th><th>rank_query_33</th><th>rank_query_34</th><th>rank_query_35</th><th>rank_query_36</th><th>rank_query_37</th><th>rank_query_38</th><th>rank_query_39</th><th>rank_query_40</th><th>rank_query_41</th><th>rank_query_42</th><th>rank_query_43</th><th>rank_query_44</th><th>rank_query_45</th><th>rank_query_46</th><th>rank_query_47</th><th>rank_query_48</th><th>rank_query_49</th><th>rank_query_50</th><th>rank_query_51</th><th>rank_query_52</th><th>rank_query_53</th><th>rank_query_54</th><th>rank_query_55</th><th>rank_query_56</th><th>rank_query_57</th><th>rank_query_58</th><th>rank_query_59</th><th>rank_query_60</th><th>rank_query_61</th><th>rank_query_62</th><th>rank_query_63</th></tr><tr><td>str</td><td>f64</td><td>f64</td><td>f64</td><td>f64</td><td>f64</td><td>f64</td><td>f64</td><td>f64</td><td>f64</td><td>f64</td><td>f64</td><td>f64</td><td>f64</td><td>f64</td><td>f64</td><td>f64</td><td>f64</td><td>f64</td><td>f64</td><td>f64</td><td>f64</td><td>f64</td><td>f64</td><td>f64</td><td>f64</td><td>f64</td><td>f64</td><td>f64</td><td>f64</td><td>f64</td><td>f64</td><td>f64</td><td>f64</td><td>f64</td><td>f64</td><td>f64</td><td>f64</td><td>f64</td><td>f64</td><td>f64</td><td>f64</td><td>f64</td><td>f64</td><td>f64</td><td>f64</td><td>f64</td><td>f64</td><td>f64</td><td>f64</td><td>f64</td><td>f64</td><td>f64</td><td>f64</td><td>f64</td><td>f64</td><td>f64</td><td>f64</td><td>f64</td><td>f64</td><td>f64</td><td>f64</td><td>f64</td><td>f64</td><td>f64</td></tr></thead><tbody><tr><td>&quot;all-MiniLM-L6-v2_title_euclide…</td><td>0.0</td><td>0.0</td><td>16.0</td><td>0.0</td><td>7.0</td><td>0.0</td><td>0.0</td><td>0.0</td><td>0.0</td><td>0.0</td><td>0.0</td><td>0.0</td><td>0.0</td><td>0.0</td><td>0.0</td><td>0.0</td><td>0.0</td><td>3.0</td><td>0.0</td><td>1.0</td><td>0.0</td><td>2.0</td><td>0.0</td><td>0.0</td><td>0.0</td><td>1.0</td><td>3.0</td><td>1.0</td><td>0.0</td><td>0.0</td><td>0.0</td><td>0.0</td><td>0.0</td><td>2.0</td><td>0.0</td><td>8.0</td><td>1.0</td><td>0.0</td><td>0.0</td><td>1.0</td><td>0.0</td><td>6.0</td><td>1.0</td><td>0.0</td><td>1.0</td><td>0.0</td><td>0.0</td><td>0.0</td><td>0.0</td><td>0.0</td><td>0.0</td><td>0.0</td><td>9.0</td><td>5.0</td><td>0.0</td><td>0.0</td><td>0.0</td><td>0.0</td><td>0.0</td><td>0.0</td><td>1.0</td><td>0.0</td><td>1.0</td><td>0.0</td></tr><tr><td>&quot;all-MiniLM-L6-v2_title_manhatt…</td><td>0.0</td><td>0.0</td><td>9.0</td><td>0.0</td><td>7.0</td><td>0.0</td><td>0.0</td><td>0.0</td><td>0.0</td><td>0.0</td><td>0.0</td><td>0.0</td><td>0.0</td><td>0.0</td><td>0.0</td><td>0.0</td><td>0.0</td><td>2.0</td><td>0.0</td><td>0.0</td><td>0.0</td><td>1.0</td><td>0.0</td><td>0.0</td><td>0.0</td><td>1.0</td><td>3.0</td><td>1.0</td><td>0.0</td><td>0.0</td><td>0.0</td><td>0.0</td><td>0.0</td><td>2.0</td><td>0.0</td><td>7.0</td><td>1.0</td><td>0.0</td><td>0.0</td><td>1.0</td><td>0.0</td><td>3.0</td><td>1.0</td><td>0.0</td><td>1.0</td><td>1.0</td><td>0.0</td><td>0.0</td><td>0.0</td><td>0.0</td><td>0.0</td><td>1.0</td><td>10.0</td><td>5.0</td><td>0.0</td><td>0.0</td><td>0.0</td><td>0.0</td><td>0.0</td><td>0.0</td><td>1.0</td><td>0.0</td><td>1.0</td><td>0.0</td></tr><tr><td>&quot;all-MiniLM-L6-v2_title_chebysh…</td><td>0.0</td><td>2.0</td><td>46.0</td><td>0.0</td><td>60.0</td><td>0.0</td><td>0.0</td><td>0.0</td><td>0.0</td><td>0.0</td><td>1.0</td><td>3.0</td><td>0.0</td><td>30.0</td><td>0.0</td><td>0.0</td><td>4.0</td><td>57.0</td><td>0.0</td><td>3.0</td><td>0.0</td><td>24.0</td><td>0.0</td><td>0.0</td><td>0.0</td><td>8.0</td><td>6.0</td><td>2.0</td><td>0.0</td><td>0.0</td><td>0.0</td><td>0.0</td><td>0.0</td><td>0.0</td><td>0.0</td><td>43.0</td><td>1.0</td><td>0.0</td><td>0.0</td><td>1.0</td><td>0.0</td><td>6.0</td><td>8.0</td><td>0.0</td><td>1.0</td><td>1.0</td><td>0.0</td><td>3.0</td><td>0.0</td><td>0.0</td><td>0.0</td><td>0.0</td><td>5.0</td><td>5.0</td><td>1.0</td><td>70.0</td><td>11.0</td><td>0.0</td><td>0.0</td><td>0.0</td><td>1.0</td><td>1.0</td><td>1.0</td><td>0.0</td></tr><tr><td>&quot;all-MiniLM-L6-v2_title_cos-sim&quot;</td><td>0.0</td><td>0.0</td><td>16.0</td><td>0.0</td><td>7.0</td><td>0.0</td><td>0.0</td><td>0.0</td><td>0.0</td><td>0.0</td><td>0.0</td><td>0.0</td><td>0.0</td><td>0.0</td><td>0.0</td><td>0.0</td><td>0.0</td><td>3.0</td><td>0.0</td><td>1.0</td><td>0.0</td><td>2.0</td><td>0.0</td><td>0.0</td><td>0.0</td><td>1.0</td><td>3.0</td><td>1.0</td><td>0.0</td><td>0.0</td><td>0.0</td><td>0.0</td><td>0.0</td><td>2.0</td><td>0.0</td><td>8.0</td><td>1.0</td><td>0.0</td><td>0.0</td><td>1.0</td><td>0.0</td><td>6.0</td><td>1.0</td><td>0.0</td><td>1.0</td><td>0.0</td><td>0.0</td><td>0.0</td><td>0.0</td><td>0.0</td><td>0.0</td><td>0.0</td><td>9.0</td><td>5.0</td><td>0.0</td><td>0.0</td><td>0.0</td><td>0.0</td><td>0.0</td><td>0.0</td><td>1.0</td><td>0.0</td><td>1.0</td><td>0.0</td></tr><tr><td>&quot;all-MiniLM-L6-v2_title_dot-sco…</td><td>0.0</td><td>0.0</td><td>16.0</td><td>0.0</td><td>7.0</td><td>0.0</td><td>0.0</td><td>0.0</td><td>0.0</td><td>0.0</td><td>0.0</td><td>0.0</td><td>0.0</td><td>0.0</td><td>0.0</td><td>0.0</td><td>0.0</td><td>3.0</td><td>0.0</td><td>1.0</td><td>0.0</td><td>2.0</td><td>0.0</td><td>0.0</td><td>0.0</td><td>1.0</td><td>3.0</td><td>1.0</td><td>0.0</td><td>0.0</td><td>0.0</td><td>0.0</td><td>0.0</td><td>2.0</td><td>0.0</td><td>8.0</td><td>1.0</td><td>0.0</td><td>0.0</td><td>1.0</td><td>0.0</td><td>6.0</td><td>1.0</td><td>0.0</td><td>1.0</td><td>0.0</td><td>0.0</td><td>0.0</td><td>0.0</td><td>0.0</td><td>0.0</td><td>0.0</td><td>9.0</td><td>5.0</td><td>0.0</td><td>0.0</td><td>0.0</td><td>0.0</td><td>0.0</td><td>0.0</td><td>1.0</td><td>0.0</td><td>1.0</td><td>0.0</td></tr></tbody></table></div>"
      ],
      "text/plain": [
       "shape: (5, 65)\n",
       "┌───────────┬───────────┬───────────┬───────────┬───┬───────────┬───────────┬───────────┬──────────┐\n",
       "│ method_na ┆ rank_quer ┆ rank_quer ┆ rank_quer ┆ … ┆ rank_quer ┆ rank_quer ┆ rank_quer ┆ rank_que │\n",
       "│ me        ┆ y_0       ┆ y_1       ┆ y_2       ┆   ┆ y_60      ┆ y_61      ┆ y_62      ┆ ry_63    │\n",
       "│ ---       ┆ ---       ┆ ---       ┆ ---       ┆   ┆ ---       ┆ ---       ┆ ---       ┆ ---      │\n",
       "│ str       ┆ f64       ┆ f64       ┆ f64       ┆   ┆ f64       ┆ f64       ┆ f64       ┆ f64      │\n",
       "╞═══════════╪═══════════╪═══════════╪═══════════╪═══╪═══════════╪═══════════╪═══════════╪══════════╡\n",
       "│ all-MiniL ┆ 0.0       ┆ 0.0       ┆ 16.0      ┆ … ┆ 1.0       ┆ 0.0       ┆ 1.0       ┆ 0.0      │\n",
       "│ M-L6-v2_t ┆           ┆           ┆           ┆   ┆           ┆           ┆           ┆          │\n",
       "│ itle_eucl ┆           ┆           ┆           ┆   ┆           ┆           ┆           ┆          │\n",
       "│ ide…      ┆           ┆           ┆           ┆   ┆           ┆           ┆           ┆          │\n",
       "│ all-MiniL ┆ 0.0       ┆ 0.0       ┆ 9.0       ┆ … ┆ 1.0       ┆ 0.0       ┆ 1.0       ┆ 0.0      │\n",
       "│ M-L6-v2_t ┆           ┆           ┆           ┆   ┆           ┆           ┆           ┆          │\n",
       "│ itle_manh ┆           ┆           ┆           ┆   ┆           ┆           ┆           ┆          │\n",
       "│ att…      ┆           ┆           ┆           ┆   ┆           ┆           ┆           ┆          │\n",
       "│ all-MiniL ┆ 0.0       ┆ 2.0       ┆ 46.0      ┆ … ┆ 1.0       ┆ 1.0       ┆ 1.0       ┆ 0.0      │\n",
       "│ M-L6-v2_t ┆           ┆           ┆           ┆   ┆           ┆           ┆           ┆          │\n",
       "│ itle_cheb ┆           ┆           ┆           ┆   ┆           ┆           ┆           ┆          │\n",
       "│ ysh…      ┆           ┆           ┆           ┆   ┆           ┆           ┆           ┆          │\n",
       "│ all-MiniL ┆ 0.0       ┆ 0.0       ┆ 16.0      ┆ … ┆ 1.0       ┆ 0.0       ┆ 1.0       ┆ 0.0      │\n",
       "│ M-L6-v2_t ┆           ┆           ┆           ┆   ┆           ┆           ┆           ┆          │\n",
       "│ itle_cos- ┆           ┆           ┆           ┆   ┆           ┆           ┆           ┆          │\n",
       "│ sim       ┆           ┆           ┆           ┆   ┆           ┆           ┆           ┆          │\n",
       "│ all-MiniL ┆ 0.0       ┆ 0.0       ┆ 16.0      ┆ … ┆ 1.0       ┆ 0.0       ┆ 1.0       ┆ 0.0      │\n",
       "│ M-L6-v2_t ┆           ┆           ┆           ┆   ┆           ┆           ┆           ┆          │\n",
       "│ itle_dot- ┆           ┆           ┆           ┆   ┆           ┆           ┆           ┆          │\n",
       "│ sco…      ┆           ┆           ┆           ┆   ┆           ┆           ┆           ┆          │\n",
       "└───────────┴───────────┴───────────┴───────────┴───┴───────────┴───────────┴───────────┴──────────┘"
      ]
     },
     "execution_count": 46,
     "metadata": {},
     "output_type": "execute_result"
    }
   ],
   "source": [
    "# Define schema for results dataframe\n",
    "schema_dict = {\"method_name\": str}\n",
    "for i in range(len(eval_results[0])-1):\n",
    "    schema_dict[\"rank_query_\"+str(i)] = float\n",
    "\n",
    "# Store results in dataframe\n",
    "df_results = pl.DataFrame(eval_results, schema=schema_dict, orient=\"row\")\n",
    "df_results.head()"
   ]
  },
  {
   "cell_type": "code",
   "execution_count": 47,
   "id": "da475020",
   "metadata": {},
   "outputs": [],
   "source": [
    "# Compute mean rankings of ground truth search results\n",
    "df_results = df_results.with_columns(new_col=pl.mean_horizontal(df_results.columns[1:])).rename({\"new_col\": \"rank_query-mean\"})\n"
   ]
  },
  {
   "cell_type": "code",
   "execution_count": 48,
   "id": "a1dc55e6",
   "metadata": {},
   "outputs": [],
   "source": [
    "# Compute number of ground truth results which appear in top 3\n",
    "for i in [1,3]:\n",
    "    df_results = df_results.with_columns(new_col=pl.sum_horizontal(df_results[:,1:-1]<i)).rename({\"new_col\": \"num_in_top-\"+str(i)})"
   ]
  },
  {
   "cell_type": "markdown",
   "id": "f6f504d7",
   "metadata": {},
   "source": [
    "--\n",
    "\n",
    "## Let's Look at the Top Results"
   ]
  },
  {
   "cell_type": "code",
   "execution_count": 49,
   "id": "f77a79df",
   "metadata": {},
   "outputs": [],
   "source": [
    "df_summary = df_results[['method_name', \"rank_query-mean\", \"num_in_top-1\", \"num_in_top-3\"]]"
   ]
  },
  {
   "cell_type": "code",
   "execution_count": 50,
   "id": "a4d713bb",
   "metadata": {},
   "outputs": [
    {
     "name": "stdout",
     "output_type": "stream",
     "text": [
      "shape: (5, 4)\n",
      "┌─────────────────────────────────┬─────────────────┬──────────────┬──────────────┐\n",
      "│ method_name                     ┆ rank_query-mean ┆ num_in_top-1 ┆ num_in_top-3 │\n",
      "│ ---                             ┆ ---             ┆ ---          ┆ ---          │\n",
      "│ str                             ┆ f64             ┆ u32          ┆ u32          │\n",
      "╞═════════════════════════════════╪═════════════════╪══════════════╪══════════════╡\n",
      "│ all-MiniLM-L6-v2_title_transcr… ┆ 0.875           ┆ 41           ┆ 60           │\n",
      "│ all-MiniLM-L6-v2_title_manhatt… ┆ 0.921875        ┆ 44           ┆ 58           │\n",
      "│ all-MiniLM-L6-v2_title_transcr… ┆ 0.96875         ┆ 41           ┆ 61           │\n",
      "│ all-MiniLM-L6-v2_title_euclide… ┆ 1.09375         ┆ 45           ┆ 57           │\n",
      "│ all-MiniLM-L6-v2_title_cos-sim  ┆ 1.09375         ┆ 45           ┆ 57           │\n",
      "└─────────────────────────────────┴─────────────────┴──────────────┴──────────────┘\n"
     ]
    }
   ],
   "source": [
    "print(df_summary.sort('rank_query-mean').head())"
   ]
  },
  {
   "cell_type": "code",
   "execution_count": 51,
   "id": "9fb90c94",
   "metadata": {},
   "outputs": [
    {
     "data": {
      "text/plain": [
       "'all-MiniLM-L6-v2_title_transcript_manhattan'"
      ]
     },
     "execution_count": 51,
     "metadata": {},
     "output_type": "execute_result"
    }
   ],
   "source": [
    "df_summary.sort('rank_query-mean').head()[0,0]"
   ]
  },
  {
   "cell_type": "code",
   "execution_count": 52,
   "id": "7e43299c",
   "metadata": {},
   "outputs": [
    {
     "name": "stdout",
     "output_type": "stream",
     "text": [
      "shape: (5, 4)\n",
      "┌─────────────────────────────────┬─────────────────┬──────────────┬──────────────┐\n",
      "│ method_name                     ┆ rank_query-mean ┆ num_in_top-1 ┆ num_in_top-3 │\n",
      "│ ---                             ┆ ---             ┆ ---          ┆ ---          │\n",
      "│ str                             ┆ f64             ┆ u32          ┆ u32          │\n",
      "╞═════════════════════════════════╪═════════════════╪══════════════╪══════════════╡\n",
      "│ all-MiniLM-L6-v2_title_euclide… ┆ 1.09375         ┆ 45           ┆ 57           │\n",
      "│ all-MiniLM-L6-v2_title_cos-sim  ┆ 1.09375         ┆ 45           ┆ 57           │\n",
      "│ all-MiniLM-L6-v2_title_dot-sco… ┆ 1.09375         ┆ 45           ┆ 57           │\n",
      "│ multi-qa-mpnet-base-dot-v1_tit… ┆ 1.8125          ┆ 45           ┆ 57           │\n",
      "│ all-MiniLM-L6-v2_title_manhatt… ┆ 0.921875        ┆ 44           ┆ 58           │\n",
      "└─────────────────────────────────┴─────────────────┴──────────────┴──────────────┘\n"
     ]
    }
   ],
   "source": [
    "print(df_summary.sort(\"num_in_top-1\", descending=True).head())"
   ]
  },
  {
   "cell_type": "code",
   "execution_count": 53,
   "id": "5c914b7d",
   "metadata": {},
   "outputs": [
    {
     "data": {
      "text/plain": [
       "'all-MiniLM-L6-v2_title_euclidean'"
      ]
     },
     "execution_count": 53,
     "metadata": {},
     "output_type": "execute_result"
    }
   ],
   "source": [
    "df_summary.sort(\"num_in_top-1\", descending=True).head()[0,0]"
   ]
  },
  {
   "cell_type": "code",
   "execution_count": 54,
   "id": "b4c45924",
   "metadata": {},
   "outputs": [
    {
     "name": "stdout",
     "output_type": "stream",
     "text": [
      "shape: (5, 4)\n",
      "┌─────────────────────────────────┬─────────────────┬──────────────┬──────────────┐\n",
      "│ method_name                     ┆ rank_query-mean ┆ num_in_top-1 ┆ num_in_top-3 │\n",
      "│ ---                             ┆ ---             ┆ ---          ┆ ---          │\n",
      "│ str                             ┆ f64             ┆ u32          ┆ u32          │\n",
      "╞═════════════════════════════════╪═════════════════╪══════════════╪══════════════╡\n",
      "│ all-MiniLM-L6-v2_title_transcr… ┆ 0.96875         ┆ 41           ┆ 61           │\n",
      "│ multi-qa-distilbert-cos-v1_tit… ┆ 1.59375         ┆ 43           ┆ 61           │\n",
      "│ multi-qa-distilbert-cos-v1_tit… ┆ 1.765625        ┆ 44           ┆ 60           │\n",
      "│ multi-qa-distilbert-cos-v1_tit… ┆ 1.765625        ┆ 44           ┆ 60           │\n",
      "│ multi-qa-distilbert-cos-v1_tit… ┆ 1.765625        ┆ 44           ┆ 60           │\n",
      "└─────────────────────────────────┴─────────────────┴──────────────┴──────────────┘\n"
     ]
    }
   ],
   "source": [
    "print(df_summary.sort(\"num_in_top-3\", descending=True).head())"
   ]
  },
  {
   "cell_type": "code",
   "execution_count": 55,
   "id": "1408c129",
   "metadata": {},
   "outputs": [
    {
     "data": {
      "text/plain": [
       "'all-MiniLM-L6-v2_title_transcript_euclidean'"
      ]
     },
     "execution_count": 55,
     "metadata": {},
     "output_type": "execute_result"
    }
   ],
   "source": [
    "df_summary.sort(\"num_in_top-3\", descending=True).head()[0,0]"
   ]
  },
  {
   "cell_type": "code",
   "execution_count": 56,
   "id": "fbb1714c",
   "metadata": {},
   "outputs": [
    {
     "name": "stdout",
     "output_type": "stream",
     "text": [
      "all-MiniLM-L6-v2_title_transcript_euclidean\n",
      "multi-qa-distilbert-cos-v1_title_transcript_euclidean\n",
      "multi-qa-distilbert-cos-v1_title_euclidean\n",
      "multi-qa-distilbert-cos-v1_title_cos-sim\n"
     ]
    }
   ],
   "source": [
    "for i in range(4):\n",
    "    print(df_summary.sort(\"num_in_top-3\", descending=True)['method_name'][i])"
   ]
  },
  {
   "cell_type": "markdown",
   "id": "3f42b4e6",
   "metadata": {},
   "source": [
    "## Summary\n",
    "\n",
    "The best embedding method overall was `all-MiniLM-L6-v2_title_transcript_manhattan` for this project because:\n",
    "\n",
    "* all-MiniLM-L6-v2 is the most compact sentence transfomer and gives computational efficiency.\n",
    "\n",
    "* It ranked hig as far as Mean. It was in the top 3 of the methods, and although not number 1 in the top-1\n",
    "it appears fairly efficient for its low cost complexity and size. \n",
    "\n",
    "* It utilizes both title and transcript.\n",
    "\n",
    "┌─────────────────────────────────┬─────────────────┬──────────────┬──────────────┐\n",
    "│ method_name                     ┆ rank_query-mean ┆ num_in_top-1 ┆ num_in_top-3 │\n",
    "│ ---                             ┆ ---             ┆ ---          ┆ ---          │\n",
    "│ str                             ┆ f64             ┆ u32          ┆ u32          │\n",
    "╞═════════════════════════════════╪═════════════════╪══════════════╪══════════════╡\n",
    "│ all-MiniLM-L6-v2_title_transcr… ┆ 0.875           ┆ 41           ┆ 60           │\n",
    "│ all-MiniLM-L6-v2_title_manhatt… ┆ 0.921875        ┆ 44           ┆ 58           │\n",
    "│ all-MiniLM-L6-v2_title_transcr… ┆ 0.96875         ┆ 41           ┆ 61           │\n",
    "│ all-MiniLM-L6-v2_title_euclide… ┆ 1.09375         ┆ 45           ┆ 57           │\n",
    "│ all-MiniLM-L6-v2_title_cos-sim  ┆ 1.09375         ┆ 45           ┆ 57           │\n",
    "└─────────────────────────────────┴─────────────────┴──────────────┴──────────────┘"
   ]
  }
 ],
 "metadata": {
  "kernelspec": {
   "display_name": ".venv",
   "language": "python",
   "name": "python3"
  },
  "language_info": {
   "codemirror_mode": {
    "name": "ipython",
    "version": 3
   },
   "file_extension": ".py",
   "mimetype": "text/x-python",
   "name": "python",
   "nbconvert_exporter": "python",
   "pygments_lexer": "ipython3",
   "version": "3.13.2"
  }
 },
 "nbformat": 4,
 "nbformat_minor": 5
}
