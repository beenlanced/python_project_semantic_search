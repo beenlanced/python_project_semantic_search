{
 "cells": [
  {
   "cell_type": "markdown",
   "id": "94912b5c",
   "metadata": {},
   "source": [
    "# Execute and Example of the Semantic Search "
   ]
  },
  {
   "cell_type": "markdown",
   "id": "b4d15713",
   "metadata": {},
   "source": [
    "## Import Libraries"
   ]
  },
  {
   "cell_type": "code",
   "execution_count": 40,
   "id": "e90e77f9",
   "metadata": {},
   "outputs": [],
   "source": [
    "import gradio as gr\n",
    "import numpy as np\n",
    "import polars as pl\n",
    "from sentence_transformers import SentenceTransformer\n",
    "from  sklearn.metrics import DistanceMetric"
   ]
  },
  {
   "cell_type": "markdown",
   "id": "efc5eb4d",
   "metadata": {},
   "source": [
    "## Load Data, Model, and Measurement Metrics"
   ]
  },
  {
   "cell_type": "code",
   "execution_count": 41,
   "id": "a28db98f",
   "metadata": {},
   "outputs": [],
   "source": [
    "# Assign paths for the index file files\n",
    "video_index_file_path = \"/Users/lancehester/Documents/semantic_search_yt/data/video_index_full.parquet\""
   ]
  },
  {
   "cell_type": "code",
   "execution_count": 42,
   "id": "cfea195c",
   "metadata": {},
   "outputs": [],
   "source": [
    "df = pl.scan_parquet(video_index_file_path)"
   ]
  },
  {
   "cell_type": "code",
   "execution_count": 43,
   "id": "2f6638f8",
   "metadata": {},
   "outputs": [],
   "source": [
    "transformer_name = \"all-MiniLM-L6-v2\"\n",
    "model = SentenceTransformer(transformer_name)"
   ]
  },
  {
   "cell_type": "code",
   "execution_count": 44,
   "id": "a153cddd",
   "metadata": {},
   "outputs": [],
   "source": [
    "dist_measure = 'manhattan'\n",
    "dist = DistanceMetric.get_metric(dist_measure)"
   ]
  },
  {
   "cell_type": "markdown",
   "id": "575b7e9b",
   "metadata": {},
   "source": [
    "# Make the Search Method/Function"
   ]
  },
  {
   "cell_type": "code",
   "execution_count": 45,
   "id": "c1075ae1",
   "metadata": {},
   "outputs": [],
   "source": [
    "def return_search_results(\n",
    "    query: str,\n",
    "    index: pl.lazyframe.frame.LazyFrame\n",
    ") -> np.ndarray:\n",
    "    \"\"\"\n",
    "    Method to return the indices of top search results\n",
    "\n",
    "        Args:\n",
    "            query (str): The user query string to search for videos\n",
    "        index (pl.lazyframe.frame.LazyFrame): \n",
    "\n",
    "        Returns:\n",
    "            np.ndarray: indices of search results\n",
    "    \"\"\"\n",
    "    # Embed query. Use reshape(-1,1) for a single feature; i.e., single column\n",
    "    query_embedding = model.encode(query).reshape(1, -1)\n",
    "\n",
    "    # Get column names without triggering schema resolution warning\n",
    "    # Polars LazyFrame provides an efficient way to handle large datasets through lazy evaluation. \n",
    "    # Unlike traditional DataFrames, LazyFrames don’t contain data but instead \n",
    "    # store a set of instructions known as a query plan \n",
    "    # ref: https://realpython.com/polars-lazyframe/\n",
    "    # Index.collect_schema()\n",
    "    # see what data types your LazyFrame is using without performing a full materialization, you can use .collect_schema() \n",
    "    column_names = index.collect_schema().names()\n",
    "\n",
    "    # Compute distances between query and titles/transcripts\n",
    "    dist_array = (\n",
    "        dist.pairwise(index.select(column_names[4:388]).collect(), query_embedding) +\n",
    "        dist.pairwise(index.select(column_names[388:]).collect(), query_embedding)\n",
    "    )\n",
    "\n",
    "    # Search paramaters\n",
    "    threshold = 40 # eye balled threshold for manhattan distance 40 or less\n",
    "    top_k = 5\n",
    "\n",
    "    # Evaluate videos close to query based on threshold\n",
    "    index_below_threshold = np.argwhere(dist_array.flatten()<threshold).flatten()\n",
    "    # keep top k closest videos\n",
    "    index_sorted = np.argsort(dist_array[index_below_threshold], axis=0).flatten()\n",
    "\n",
    "    # return indexes of search results\n",
    "    return index_below_threshold[index_sorted][:top_k]\n"
   ]
  },
  {
   "cell_type": "code",
   "execution_count": 46,
   "id": "a845c518",
   "metadata": {},
   "outputs": [
    {
     "name": "stdout",
     "output_type": "stream",
     "text": [
      "shape: (5, 2)\n",
      "┌─────────────┬─────────────────────────────────┐\n",
      "│ video_id    ┆ title                           │\n",
      "│ ---         ┆ ---                             │\n",
      "│ str         ┆ str                             │\n",
      "╞═════════════╪═════════════════════════════════╡\n",
      "│ ytmK_ErTWss ┆ LLMs EXPLAINED in 60 seconds #… │\n",
      "│ ZLbVdvOoTKM ┆ How to Build an LLM from Scrat… │\n",
      "│ Ylz779Op9Pw ┆ How to Improve LLMs with RAG (… │\n",
      "│ tFHeUSJAYbE ┆ A Practical Introduction to La… │\n",
      "│ eC6Hd1hFvos ┆ Fine-tuning Large Language Mod… │\n",
      "└─────────────┴─────────────────────────────────┘\n"
     ]
    }
   ],
   "source": [
    "#try sample query \n",
    "query = \"LLM\"\n",
    "index_result = return_search_results(query, df)\n",
    "\n",
    "print(df.select(['video_id', 'title']).collect()[index_result])"
   ]
  },
  {
   "cell_type": "code",
   "execution_count": 47,
   "id": "292dd3a3",
   "metadata": {},
   "outputs": [
    {
     "data": {
      "text/plain": [
       "{'title': ['LLMs EXPLAINED in 60 seconds #ai',\n",
       "  'How to Build an LLM from Scratch | An Overview',\n",
       "  'How to Improve LLMs with RAG (Overview + Python Code)',\n",
       "  'A Practical Introduction to Large Language Models (LLMs)',\n",
       "  'Fine-tuning Large Language Models (LLMs) | w/ Example Code'],\n",
       " 'video_id': ['ytmK_ErTWss',\n",
       "  'ZLbVdvOoTKM',\n",
       "  'Ylz779Op9Pw',\n",
       "  'tFHeUSJAYbE',\n",
       "  'eC6Hd1hFvos']}"
      ]
     },
     "execution_count": 47,
     "metadata": {},
     "output_type": "execute_result"
    }
   ],
   "source": [
    "df.select(['title', 'video_id']).collect()[index_result].to_dict(as_series=False)"
   ]
  },
  {
   "cell_type": "code",
   "execution_count": 48,
   "id": "2a715266",
   "metadata": {},
   "outputs": [
    {
     "data": {
      "text/plain": [
       "dict"
      ]
     },
     "execution_count": 48,
     "metadata": {},
     "output_type": "execute_result"
    }
   ],
   "source": [
    "type(df.select(['title', 'video_id']).collect()[index_result].to_dict(as_series=False))"
   ]
  },
  {
   "cell_type": "markdown",
   "id": "9751ceec",
   "metadata": {},
   "source": [
    "--\n",
    "\n",
    "## Now Let's Build an Interface\n",
    "\n",
    "--"
   ]
  },
  {
   "cell_type": "code",
   "execution_count": 49,
   "id": "661f0a15",
   "metadata": {},
   "outputs": [],
   "source": [
    "def return_top_five(query: str) -> dict[str, list[str]]:\n",
    "    \"\"\"\n",
    "    Method to return the top 5 search results\n",
    "\n",
    "        Args:\n",
    "            query (str): The user query string to search for videos\n",
    "        \n",
    "        Returns:\n",
    "            dict([str, list[str]): Dictionary containing the top 5 resuts of keys: title and video_id\n",
    "    \"\"\"\n",
    "    # return top 5 search results\n",
    "    index_result = return_search_results(query, df)\n",
    "    response = df.select(['title', 'video_id']).collect()[index_result].to_dict(as_series=False)\n",
    "\n",
    "    return response"
   ]
  },
  {
   "cell_type": "code",
   "execution_count": 50,
   "id": "280c3538",
   "metadata": {},
   "outputs": [],
   "source": [
    "def format_result_text(title: str, video_id: str) -> str:\n",
    "    \"\"\"\n",
    "    Method to format search result text\n",
    "\n",
    "        Args:\n",
    "            title (str): The YouTube video title.\n",
    "            video_id (str): The unique id of the YouTube video.\n",
    "        \n",
    "        Returns:\n",
    "            str: The formated text \n",
    "    \"\"\"\n",
    "    text = markdown_text = f\"\"\"<br> <br>\n",
    "# {title}<br>\n",
    "\n",
    "🔗 [Video Link](https://youtu.be/{video_id})\"\"\"\n",
    "\n",
    "    return text"
   ]
  },
  {
   "cell_type": "code",
   "execution_count": 51,
   "id": "a563abb7",
   "metadata": {},
   "outputs": [],
   "source": [
    "def format_video_embed(video_id: str) -> str:\n",
    "    \"\"\"\n",
    "    Method to format to literally embed in the results (i.e., show video screen)\n",
    "\n",
    "        Args:\n",
    "            video_id (str): The unique id of the YouTube video.\n",
    "        \n",
    "        Returns:\n",
    "            str: The formated text \n",
    "    \"\"\"\n",
    "    # other options\n",
    "    # embed = '<iframe width=\"640\" height=\"360\" src=\"https://img.youtube.com/vi/'+ video_id +'/0.jpg\" </iframe>'\n",
    "    # embed = '<a href=\"https://youtu.be/'+ video_id +'\"> <img src=\"https://img.youtube.com/vi/'+ video_id +'/0.jpg\" style=\"width:576;height:324;\"></a>'\n",
    "    # embed = '<a href=\"www.youtube.com/watch?v='+ video_id +'\"> <img src=\"https://img.youtube.com/vi/'+ video_id +'/0.jpg\" style=\"width:576;height:324;\"></a>'\n",
    "    return f\"\"\"<iframe width=\"576\" height=\"324\" src=\"https://www.youtube.com/embed/{video_id}\"></iframe>\"\"\""
   ]
  },
  {
   "cell_type": "code",
   "execution_count": 52,
   "id": "fad1694e",
   "metadata": {},
   "outputs": [
    {
     "name": "stdout",
     "output_type": "stream",
     "text": [
      "tile = LLMs EXPLAINED in 60 seconds #ai, video_id = ytmK_ErTWss\n",
      "embed = <gradio.components.html.HTML object at 0x391aa6710>, text = <gradio.components.markdown.Markdown object at 0x388f3f110>\n",
      "tile = How to Build an LLM from Scratch | An Overview, video_id = ZLbVdvOoTKM\n",
      "embed = <gradio.components.html.HTML object at 0x391aa6fd0>, text = <gradio.components.markdown.Markdown object at 0x391b28a50>\n",
      "tile = How to Improve LLMs with RAG (Overview + Python Code), video_id = Ylz779Op9Pw\n",
      "embed = <gradio.components.html.HTML object at 0x391b28b90>, text = <gradio.components.markdown.Markdown object at 0x391b28910>\n",
      "tile = A Practical Introduction to Large Language Models (LLMs), video_id = tFHeUSJAYbE\n",
      "embed = <gradio.components.html.HTML object at 0x391b28cd0>, text = <gradio.components.markdown.Markdown object at 0x391b28e10>\n",
      "tile = Fine-tuning Large Language Models (LLMs) | w/ Example Code, video_id = eC6Hd1hFvos\n",
      "embed = <gradio.components.html.HTML object at 0x391b28f50>, text = <gradio.components.markdown.Markdown object at 0x391b29090>\n",
      "<iframe width=\"576\" height=\"324\" src=\"https://www.youtube.com/embed/99999\"></iframe>\n"
     ]
    }
   ],
   "source": [
    "response = return_top_five(query)\n",
    "output_list = []\n",
    "for i in range(len(response['title'])):\n",
    "    video_id = response['video_id'][i]\n",
    "    title = response['title'][i]\n",
    "\n",
    "    embed = gr.HTML(value = format_video_embed(video_id), visible=True)\n",
    "    text = gr.Markdown(value = format_result_text(title, video_id), visible=True)\n",
    "\n",
    "    print(f\"tile = {title}, video_id = {video_id}\")\n",
    "    print(f\"embed = {embed}, text = {text}\")\n",
    "\n",
    "    output_list.append(embed)\n",
    "    output_list.append(text)\n",
    "\n",
    "\n",
    "test = \"99999\"\n",
    "text = f\"\"\"<iframe width=\"576\" height=\"324\" src=\"https://www.youtube.com/embed/{test}\"></iframe>\"\"\"\n",
    "\n",
    "print(text)\n",
    "\n"
   ]
  },
  {
   "cell_type": "code",
   "execution_count": 53,
   "id": "d7c28f0e",
   "metadata": {},
   "outputs": [],
   "source": [
    "def get_search_results(query: str) -> list[dict[str,[list[str]]]]:\n",
    "    \"\"\"\n",
    "    Method to search results\n",
    "\n",
    "        Args:\n",
    "            query (str): The user query string to search for videos\n",
    "        \n",
    "        Returns:\n",
    "            list (dict[str, list[str]): List of dictionaries containing the query resuts with keys: title and video_id\n",
    "    \"\"\"\n",
    "\n",
    "    # pseudo API call\n",
    "    response = return_top_five(query)\n",
    "\n",
    "    # format search results\n",
    "\n",
    "    # initialize list of outputs\n",
    "    output_list = []\n",
    "\n",
    "    # compute number of null search results (out of 5)\n",
    "    num_empty_results = 5-len(response['title'])\n",
    "\n",
    "    # display search results\n",
    "    for i in range(len(response['title'])):\n",
    "        video_id = response['video_id'][i]\n",
    "        title = response['title'][i]\n",
    "\n",
    "        embed = gr.HTML(value = format_video_embed(video_id), visible=True)\n",
    "        text = gr.Markdown(value = format_result_text(title, video_id), visible=True)\n",
    "\n",
    "        output_list.append(embed)\n",
    "        output_list.append(text)\n",
    "\n",
    "    # make null search result slots invisible\n",
    "    for i in range(num_empty_results):\n",
    "        \n",
    "        # if no search results display \"No results.\" text\n",
    "        if num_empty_results==5 and i==0:\n",
    "            embed = gr.HTML(visible=True)\n",
    "            text = gr.Markdown(value = \"No results. Try rephrasing your query.\", visible=True)\n",
    "\n",
    "            output_list.append(embed)\n",
    "            output_list.append(text)\n",
    "            continue\n",
    "\n",
    "        embed = gr.HTML(visible=True)\n",
    "        text = gr.Markdown(visible=False)\n",
    "\n",
    "        output_list.append(embed)\n",
    "        output_list.append(text)\n",
    "        \n",
    "    return output_list"
   ]
  },
  {
   "cell_type": "markdown",
   "id": "8aa7dfc7",
   "metadata": {},
   "source": [
    "# Okay Let us Demo this now"
   ]
  },
  {
   "cell_type": "code",
   "execution_count": 54,
   "id": "c6ede958",
   "metadata": {},
   "outputs": [
    {
     "name": "stdout",
     "output_type": "stream",
     "text": [
      "* Running on local URL:  http://127.0.0.1:7867\n",
      "* To create a public link, set `share=True` in `launch()`.\n"
     ]
    },
    {
     "data": {
      "text/html": [
       "<div><iframe src=\"http://127.0.0.1:7867/\" width=\"100%\" height=\"500\" allow=\"autoplay; camera; microphone; clipboard-read; clipboard-write;\" frameborder=\"0\" allowfullscreen></iframe></div>"
      ],
      "text/plain": [
       "<IPython.core.display.HTML object>"
      ]
     },
     "metadata": {},
     "output_type": "display_data"
    },
    {
     "data": {
      "text/plain": []
     },
     "execution_count": 54,
     "metadata": {},
     "output_type": "execute_result"
    }
   ],
   "source": [
    "# demo\n",
    "output_list = []\n",
    "\n",
    "with gr.Blocks() as demo:\n",
    "    gr.Markdown(\"# YouTube Search\")\n",
    "\n",
    "    with gr.Row():\n",
    "        inp = gr.Textbox(placeholder=\"What are you looking for?\", label=\"Query\", scale=3)\n",
    "        btn = gr.Button(\"Search\")\n",
    "        btn.click(fn=get_search_results, inputs=inp, outputs=output_list)\n",
    "    \n",
    "    for i in range(5):\n",
    "        with gr.Row():\n",
    "            output_list.append(gr.HTML())\n",
    "            output_list.append(gr.Markdown())\n",
    "             \n",
    "    inp.submit(fn=get_search_results, inputs=inp, outputs=output_list)\n",
    "\n",
    "\n",
    "#Note render in the browser http://127.0.0.1:7861 will allow you to play the videos. notebook has issues.\n",
    "demo.launch()"
   ]
  }
 ],
 "metadata": {
  "kernelspec": {
   "display_name": ".venv",
   "language": "python",
   "name": "python3"
  },
  "language_info": {
   "codemirror_mode": {
    "name": "ipython",
    "version": 3
   },
   "file_extension": ".py",
   "mimetype": "text/x-python",
   "name": "python",
   "nbconvert_exporter": "python",
   "pygments_lexer": "ipython3",
   "version": "3.13.2"
  }
 },
 "nbformat": 4,
 "nbformat_minor": 5
}
